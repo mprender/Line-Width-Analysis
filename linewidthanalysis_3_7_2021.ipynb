{
 "cells": [
  {
   "cell_type": "markdown",
   "metadata": {},
   "source": [
    "# Line Width Analysis\n",
    "#### Analsis for images of printed lines. Program takes lines that are imaged vertically in either grayscale or binary format, assesses how many lines are in image, then estimates line width across each horiztonal pixel row for each line. Images that have same format (ie, binary/grayscale, dark/light background), can be processed in bulk. Uploaded images should be pre-processed to avoid background noise so that the program can clearly identify printed lines. Ideal images will look like the ones below: \n",
    "#### <center>Dark Background Binary Image</center>\n",
    "<img src=\"example_images/linethicknesstest_invert.jpg\" width=\"200\" height=\"100\"> \n",
    "\n",
    "#### <center>Light Background Binary Image</center>\n",
    "<img src=\"example_images/linethicknesstest.jpg\" width=\"200\" height=\"100\">\n",
    "\n",
    "#### <center>Dark Background Grayscale Image</center>\n",
    "<img src=\"example_images/grayscale_example.jpg\" width=\"200\" height=\"100\">\n",
    "\n",
    "### Steps:  First, Upload your Images for analysis. "
   ]
  },
  {
   "cell_type": "code",
   "execution_count": 3,
   "metadata": {},
   "outputs": [
    {
     "data": {
      "application/vnd.jupyter.widget-view+json": {
       "model_id": "108e937ca7654393a604e87fcfdcf4d7",
       "version_major": 2,
       "version_minor": 0
      },
      "text/plain": [
       "FileUpload(value={}, description='Upload', multiple=True, style=ButtonStyle(button_color='lightblue'))"
      ]
     },
     "metadata": {},
     "output_type": "display_data"
    }
   ],
   "source": [
    "from Line_Width_Analysis.widgetsmp import s,run,save,clear\n",
    "from Line_Width_Analysis.foruploading5 import ff,upload,prepimages\n",
    "import ipywidgets as widgets\n",
    "from IPython.display import display, Markdown, clear_output\n",
    "from ipywidgets import interact, interact_manual\n",
    "\n",
    "import os\n",
    "import glob\n",
    "%matplotlib inline\n",
    "## Remove blank file from output folder\n",
    "files = glob.glob('testing/*',recursive=True)\n",
    "for f in files:\n",
    "    try:\n",
    "        os.remove(f)\n",
    "    except OSError as e:\n",
    "        print(\"Error: %s : %s\" % (f, e.strerror))\n",
    "\n",
    "s = widgets.FileUpload(accept='', multiple=True)\n",
    "upload(s)\n",
    "s"
   ]
  },
  {
   "cell_type": "markdown",
   "metadata": {},
   "source": [
    "### Next, Run program. Input desired threshold value, pixels per mm in images, and whether images have a light or dark background."
   ]
  },
  {
   "cell_type": "code",
   "execution_count": 4,
   "metadata": {},
   "outputs": [
    {
     "data": {
      "application/vnd.jupyter.widget-view+json": {
       "model_id": "c80cfbc4fb7a4280a68c62bbe3431220",
       "version_major": 2,
       "version_minor": 0
      },
      "text/plain": [
       "VBox(children=(Text(value='', description='Threshold Value(if Binary, make 0)', layout=Layout(width='400px'), …"
      ]
     },
     "metadata": {},
     "output_type": "display_data"
    },
    {
     "data": {
      "application/vnd.jupyter.widget-view+json": {
       "model_id": "6e78153902834c26ba3731d26360f2dd",
       "version_major": 2,
       "version_minor": 0
      },
      "text/plain": [
       "Output()"
      ]
     },
     "metadata": {},
     "output_type": "display_data"
    }
   ],
   "source": [
    "run(_)"
   ]
  },
  {
   "cell_type": "markdown",
   "metadata": {},
   "source": [
    "### Next, create zip file to download."
   ]
  },
  {
   "cell_type": "code",
   "execution_count": 5,
   "metadata": {},
   "outputs": [
    {
     "name": "stdout",
     "output_type": "stream",
     "text": [
      "output/Linecount_linethicknesstest_invert.jpg\r\n",
      "output/Linecount_saved_output.csv\r\n"
     ]
    }
   ],
   "source": [
    "!tar chvfz notebook.tar.gz output/*;"
   ]
  },
  {
   "cell_type": "markdown",
   "metadata": {},
   "source": [
    "### Download zip file and clear input and output folders before uploading more images for analysis. "
   ]
  },
  {
   "cell_type": "code",
   "execution_count": 6,
   "metadata": {},
   "outputs": [
    {
     "data": {
      "application/vnd.jupyter.widget-view+json": {
       "model_id": "1cd2688903ee4ffead669ed77c986e42",
       "version_major": 2,
       "version_minor": 0
      },
      "text/plain": [
       "HTML(value='<html>\\n    <head>\\n    <meta name=\"viewport\" content=\"width=device-width, initial-scale=1\">\\n    …"
      ]
     },
     "metadata": {},
     "output_type": "display_data"
    },
    {
     "data": {
      "application/vnd.jupyter.widget-view+json": {
       "model_id": "7496ff52162245118e8ca92fe10888ca",
       "version_major": 2,
       "version_minor": 0
      },
      "text/plain": [
       "VBox(children=(Button(description='Clear Data', layout=Layout(width='300px'), style=ButtonStyle()),))"
      ]
     },
     "metadata": {},
     "output_type": "display_data"
    },
    {
     "data": {
      "application/vnd.jupyter.widget-view+json": {
       "model_id": "7df2b14bc0f240a5bdf3ab91bbca02cc",
       "version_major": 2,
       "version_minor": 0
      },
      "text/plain": [
       "Output()"
      ]
     },
     "metadata": {},
     "output_type": "display_data"
    }
   ],
   "source": [
    "save(_)\n",
    "clear(_)"
   ]
  },
  {
   "cell_type": "code",
   "execution_count": null,
   "metadata": {},
   "outputs": [],
   "source": []
  }
 ],
 "metadata": {
  "anaconda-cloud": {},
  "kernelspec": {
   "display_name": "Python 3",
   "language": "python",
   "name": "python3"
  },
  "language_info": {
   "codemirror_mode": {
    "name": "ipython",
    "version": 3
   },
   "file_extension": ".py",
   "mimetype": "text/x-python",
   "name": "python",
   "nbconvert_exporter": "python",
   "pygments_lexer": "ipython3",
   "version": "3.7.9"
  }
 },
 "nbformat": 4,
 "nbformat_minor": 1
}
