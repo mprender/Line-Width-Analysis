{
 "cells": [
  {
   "cell_type": "markdown",
   "metadata": {},
   "source": [
    "# Line Width Analysis\n",
    "#### Analsis for images of printed lines. Program takes lines that are imaged vertically in either grayscale or binary format, assesses how many lines are in image, then estimates line width across each horiztonal pixel row for each line. Images that have same format (ie, binary/grayscale, dark/light background), can be processed in bulk. Uploaded images should be pre-processed to avoid background noise so that the program can clearly identify printed lines. Ideal images will look like the ones below: \n",
    "#### <center>Dark Background Binary Image</center>\n",
    "<img src=\"example_images/linethicknesstest_invert.jpg\" width=\"200\" height=\"100\"> \n",
    "\n",
    "#### <center>Light Background Binary Image</center>\n",
    "<img src=\"example_images/linethicknesstest.jpg\" width=\"200\" height=\"100\">\n",
    "\n",
    "#### <center>Dark Background Grayscale Image</center>\n",
    "<img src=\"example_images/grayscale_example.jpg\" width=\"200\" height=\"100\">\n",
    "\n",
    "### Steps:  First, Upload your Images for analysis. "
   ]
  },
  {
   "cell_type": "code",
   "execution_count": 1,
   "metadata": {},
   "outputs": [
    {
     "name": "stderr",
     "output_type": "stream",
     "text": [
      "C:\\Users\\asus\\anaconda3\\envs\\test-environment\\lib\\site-packages\\IPython\\html.py:12: ShimWarning: The `IPython.html` package has been deprecated since IPython 4.0. You should import from `notebook` instead. `IPython.html.widgets` has moved to `ipywidgets`.\n",
      "  warn(\"The `IPython.html` package has been deprecated since IPython 4.0. \"\n"
     ]
    },
    {
     "data": {
      "application/vnd.jupyter.widget-view+json": {
       "model_id": "fff928caceb549bfb883ab76c4601800",
       "version_major": 2,
       "version_minor": 0
      },
      "text/plain": [
       "FileUpload(value={}, description='Upload', multiple=True, style=ButtonStyle(button_color='lightblue'))"
      ]
     },
     "metadata": {},
     "output_type": "display_data"
    }
   ],
   "source": [
    "from Line_Width_Analysis.widgetsmp import s,run,save,clear\n",
    "from Line_Width_Analysis.foruploading5 import ff,upload,prepimages\n",
    "import ipywidgets as widgets\n",
    "from IPython.display import display, Markdown, clear_output\n",
    "from ipywidgets import interact, interact_manual\n",
    "s = widgets.FileUpload(accept='', multiple=True)\n",
    "upload(s)\n",
    "s"
   ]
  },
  {
   "cell_type": "code",
   "execution_count": 2,
   "metadata": {},
   "outputs": [
    {
     "data": {
      "application/vnd.jupyter.widget-view+json": {
       "model_id": "6a0ae3d9c5294228aa0e55b0aa9329ba",
       "version_major": 2,
       "version_minor": 0
      },
      "text/plain": [
       "VBox(children=(Text(value='', description='Threshold Value(if Binary, make 0)', layout=Layout(width='400px'), …"
      ]
     },
     "metadata": {},
     "output_type": "display_data"
    },
    {
     "data": {
      "application/vnd.jupyter.widget-view+json": {
       "model_id": "806e9f22030f47f9ba1a3fbbfa6d87f8",
       "version_major": 2,
       "version_minor": 0
      },
      "text/plain": [
       "Output()"
      ]
     },
     "metadata": {},
     "output_type": "display_data"
    }
   ],
   "source": [
    "run(_)"
   ]
  },
  {
   "cell_type": "code",
   "execution_count": 3,
   "metadata": {},
   "outputs": [
    {
     "name": "stderr",
     "output_type": "stream",
     "text": [
      "tar: .../output*: Couldn't find file: No such file or directory\n",
      "tar: Error exit delayed from previous errors.\n"
     ]
    }
   ],
   "source": [
    "!tar chvfz notebook.tar.gz .../output*"
   ]
  },
  {
   "cell_type": "code",
   "execution_count": 4,
   "metadata": {},
   "outputs": [
    {
     "data": {
      "application/vnd.jupyter.widget-view+json": {
       "model_id": "bede62277d81494b947bd2996745aad7",
       "version_major": 2,
       "version_minor": 0
      },
      "text/plain": [
       "HTML(value='<html>\\n    <head>\\n    <meta name=\"viewport\" content=\"width=device-width, initial-scale=1\">\\n    …"
      ]
     },
     "metadata": {},
     "output_type": "display_data"
    },
    {
     "data": {
      "application/vnd.jupyter.widget-view+json": {
       "model_id": "1029af147aa84cdeb57b2bff2da95b8e",
       "version_major": 2,
       "version_minor": 0
      },
      "text/plain": [
       "VBox(children=(Button(description='Clear Data', layout=Layout(width='300px'), style=ButtonStyle()),))"
      ]
     },
     "metadata": {},
     "output_type": "display_data"
    },
    {
     "data": {
      "application/vnd.jupyter.widget-view+json": {
       "model_id": "64b053b75821454299f39ad88f2f7b6e",
       "version_major": 2,
       "version_minor": 0
      },
      "text/plain": [
       "Output()"
      ]
     },
     "metadata": {},
     "output_type": "display_data"
    }
   ],
   "source": [
    "save(_)\n",
    "clear(_)"
   ]
  },
  {
   "cell_type": "code",
   "execution_count": null,
   "metadata": {},
   "outputs": [],
   "source": []
  }
 ],
 "metadata": {
  "anaconda-cloud": {},
  "kernelspec": {
   "display_name": "Python 3",
   "language": "python",
   "name": "python3"
  },
  "language_info": {
   "codemirror_mode": {
    "name": "ipython",
    "version": 3
   },
   "file_extension": ".py",
   "mimetype": "text/x-python",
   "name": "python",
   "nbconvert_exporter": "python",
   "pygments_lexer": "ipython3",
   "version": "3.8.2"
  }
 },
 "nbformat": 4,
 "nbformat_minor": 1
}
